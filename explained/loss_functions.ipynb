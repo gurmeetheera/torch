{
  "nbformat": 4,
  "nbformat_minor": 0,
  "metadata": {
    "colab": {
      "provenance": [],
      "authorship_tag": "ABX9TyNMe7tSfN8Yim8MwOEa1i04"
    },
    "kernelspec": {
      "name": "python3",
      "display_name": "Python 3"
    },
    "language_info": {
      "name": "python"
    }
  },
  "cells": [
    {
      "cell_type": "code",
      "execution_count": 2,
      "metadata": {
        "id": "THmfvO-Rdy-V"
      },
      "outputs": [],
      "source": [
        "import torch\n",
        "import torch.nn as nn"
      ]
    },
    {
      "cell_type": "markdown",
      "source": [
        "Mean Absolute loss"
      ],
      "metadata": {
        "id": "_OehC9Hyglt0"
      }
    },
    {
      "cell_type": "code",
      "source": [
        "loss = nn.L1Loss()"
      ],
      "metadata": {
        "id": "nKNAVi4EgnLV"
      },
      "execution_count": 3,
      "outputs": []
    },
    {
      "cell_type": "code",
      "source": [
        "input = torch.randn(3, 5, requires_grad=True)\n",
        "target = torch.randn(3, 5)\n",
        "mae_loss = nn.L1Loss()\n",
        "output = mae_loss(input, target)"
      ],
      "metadata": {
        "id": "N5azS2fugsTY"
      },
      "execution_count": 4,
      "outputs": []
    },
    {
      "cell_type": "code",
      "source": [
        "input"
      ],
      "metadata": {
        "colab": {
          "base_uri": "https://localhost:8080/"
        },
        "id": "JXvKOW1sg0Tr",
        "outputId": "0d4c1855-85d7-4909-b75d-7265784aa0d8"
      },
      "execution_count": 5,
      "outputs": [
        {
          "output_type": "execute_result",
          "data": {
            "text/plain": [
              "tensor([[-1.0067,  0.7007, -0.5554,  1.9660, -0.2172],\n",
              "        [ 0.2010,  0.5133, -1.0753,  0.1957, -0.2220],\n",
              "        [ 1.2197,  0.3226,  2.3190,  0.4182,  0.2190]], requires_grad=True)"
            ]
          },
          "metadata": {},
          "execution_count": 5
        }
      ]
    },
    {
      "cell_type": "code",
      "source": [
        "target"
      ],
      "metadata": {
        "colab": {
          "base_uri": "https://localhost:8080/"
        },
        "id": "1k2g58S6g1j_",
        "outputId": "e4ff08f3-3193-497a-f337-1fd2321e44ea"
      },
      "execution_count": 6,
      "outputs": [
        {
          "output_type": "execute_result",
          "data": {
            "text/plain": [
              "tensor([[-0.6690,  1.7592, -0.3545,  0.8823,  1.2551],\n",
              "        [-1.7853, -0.3510,  1.8416, -2.1949,  2.0010],\n",
              "        [ 1.0608, -1.4516, -2.9097,  0.4383, -0.6025]])"
            ]
          },
          "metadata": {},
          "execution_count": 6
        }
      ]
    },
    {
      "cell_type": "code",
      "source": [
        "output"
      ],
      "metadata": {
        "colab": {
          "base_uri": "https://localhost:8080/"
        },
        "id": "AsA4thGTg3gA",
        "outputId": "cecccdf7-8f27-4407-a50b-f8cca6449bb6"
      },
      "execution_count": 7,
      "outputs": [
        {
          "output_type": "execute_result",
          "data": {
            "text/plain": [
              "tensor(1.5025, grad_fn=<MeanBackward0>)"
            ]
          },
          "metadata": {},
          "execution_count": 7
        }
      ]
    },
    {
      "cell_type": "code",
      "source": [
        "torch.abs(input-target).sum()/input.numel()"
      ],
      "metadata": {
        "colab": {
          "base_uri": "https://localhost:8080/"
        },
        "id": "p0XDkEprg8Sy",
        "outputId": "8b71f990-9670-4c6d-d965-b4e38325d174"
      },
      "execution_count": 13,
      "outputs": [
        {
          "output_type": "execute_result",
          "data": {
            "text/plain": [
              "tensor(1.5025, grad_fn=<DivBackward0>)"
            ]
          },
          "metadata": {},
          "execution_count": 13
        }
      ]
    },
    {
      "cell_type": "code",
      "source": [],
      "metadata": {
        "id": "sdgubg9WhC-4"
      },
      "execution_count": null,
      "outputs": []
    }
  ]
}