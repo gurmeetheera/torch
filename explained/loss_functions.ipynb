{
  "nbformat": 4,
  "nbformat_minor": 0,
  "metadata": {
    "colab": {
      "provenance": [],
      "authorship_tag": "ABX9TyMc+40YtxI9xcTl/EPdaoB+",
      "include_colab_link": true
    },
    "kernelspec": {
      "name": "python3",
      "display_name": "Python 3"
    },
    "language_info": {
      "name": "python"
    }
  },
  "cells": [
    {
      "cell_type": "markdown",
      "metadata": {
        "id": "view-in-github",
        "colab_type": "text"
      },
      "source": [
        "<a href=\"https://colab.research.google.com/github/gurmeetheera/torch/blob/main/explained/loss_functions.ipynb\" target=\"_parent\"><img src=\"https://colab.research.google.com/assets/colab-badge.svg\" alt=\"Open In Colab\"/></a>"
      ]
    },
    {
      "cell_type": "code",
      "execution_count": 1,
      "metadata": {
        "id": "THmfvO-Rdy-V"
      },
      "outputs": [],
      "source": [
        "import torch\n",
        "import torch.nn as nn"
      ]
    },
    {
      "cell_type": "markdown",
      "source": [
        "# Mean Absolute loss"
      ],
      "metadata": {
        "id": "_OehC9Hyglt0"
      }
    },
    {
      "cell_type": "code",
      "source": [
        "loss = nn.L1Loss()"
      ],
      "metadata": {
        "id": "nKNAVi4EgnLV"
      },
      "execution_count": 3,
      "outputs": []
    },
    {
      "cell_type": "code",
      "source": [
        "input = torch.randn(3, 5, requires_grad=True)\n",
        "target = torch.randn(3, 5)\n",
        "mae_loss = nn.L1Loss()\n",
        "output = mae_loss(input, target)"
      ],
      "metadata": {
        "id": "N5azS2fugsTY"
      },
      "execution_count": 4,
      "outputs": []
    },
    {
      "cell_type": "code",
      "source": [
        "input"
      ],
      "metadata": {
        "colab": {
          "base_uri": "https://localhost:8080/"
        },
        "id": "JXvKOW1sg0Tr",
        "outputId": "0d4c1855-85d7-4909-b75d-7265784aa0d8"
      },
      "execution_count": 5,
      "outputs": [
        {
          "output_type": "execute_result",
          "data": {
            "text/plain": [
              "tensor([[-1.0067,  0.7007, -0.5554,  1.9660, -0.2172],\n",
              "        [ 0.2010,  0.5133, -1.0753,  0.1957, -0.2220],\n",
              "        [ 1.2197,  0.3226,  2.3190,  0.4182,  0.2190]], requires_grad=True)"
            ]
          },
          "metadata": {},
          "execution_count": 5
        }
      ]
    },
    {
      "cell_type": "code",
      "source": [
        "target"
      ],
      "metadata": {
        "colab": {
          "base_uri": "https://localhost:8080/"
        },
        "id": "1k2g58S6g1j_",
        "outputId": "e4ff08f3-3193-497a-f337-1fd2321e44ea"
      },
      "execution_count": 6,
      "outputs": [
        {
          "output_type": "execute_result",
          "data": {
            "text/plain": [
              "tensor([[-0.6690,  1.7592, -0.3545,  0.8823,  1.2551],\n",
              "        [-1.7853, -0.3510,  1.8416, -2.1949,  2.0010],\n",
              "        [ 1.0608, -1.4516, -2.9097,  0.4383, -0.6025]])"
            ]
          },
          "metadata": {},
          "execution_count": 6
        }
      ]
    },
    {
      "cell_type": "code",
      "source": [
        "output"
      ],
      "metadata": {
        "colab": {
          "base_uri": "https://localhost:8080/"
        },
        "id": "AsA4thGTg3gA",
        "outputId": "cecccdf7-8f27-4407-a50b-f8cca6449bb6"
      },
      "execution_count": 7,
      "outputs": [
        {
          "output_type": "execute_result",
          "data": {
            "text/plain": [
              "tensor(1.5025, grad_fn=<MeanBackward0>)"
            ]
          },
          "metadata": {},
          "execution_count": 7
        }
      ]
    },
    {
      "cell_type": "code",
      "source": [
        "# numel refers to NUMber of ELements\n",
        "torch.abs(input-target).sum()/input.numel()"
      ],
      "metadata": {
        "colab": {
          "base_uri": "https://localhost:8080/"
        },
        "id": "p0XDkEprg8Sy",
        "outputId": "8b71f990-9670-4c6d-d965-b4e38325d174"
      },
      "execution_count": 13,
      "outputs": [
        {
          "output_type": "execute_result",
          "data": {
            "text/plain": [
              "tensor(1.5025, grad_fn=<DivBackward0>)"
            ]
          },
          "metadata": {},
          "execution_count": 13
        }
      ]
    },
    {
      "cell_type": "markdown",
      "source": [
        "# MSE Loss"
      ],
      "metadata": {
        "id": "wrKEAMhHDyx1"
      }
    },
    {
      "cell_type": "code",
      "source": [
        "y = torch.randn(10,1)\n",
        "y_hat = torch.randn(10,1)"
      ],
      "metadata": {
        "id": "bXes_jB1DxUM"
      },
      "execution_count": 104,
      "outputs": []
    },
    {
      "cell_type": "code",
      "source": [
        "torch.nn.MSELoss()(y_hat,y)"
      ],
      "metadata": {
        "colab": {
          "base_uri": "https://localhost:8080/"
        },
        "id": "sdgubg9WhC-4",
        "outputId": "02f8ee41-9e09-4f24-ece1-ee696e88640d"
      },
      "execution_count": 107,
      "outputs": [
        {
          "output_type": "execute_result",
          "data": {
            "text/plain": [
              "tensor(2.5226)"
            ]
          },
          "metadata": {},
          "execution_count": 107
        }
      ]
    },
    {
      "cell_type": "code",
      "source": [
        "(y_hat-y).pow(2).sum()/y.numel()"
      ],
      "metadata": {
        "colab": {
          "base_uri": "https://localhost:8080/"
        },
        "id": "aVkrmgTWROh8",
        "outputId": "e39c2ff9-388b-44c0-9bc6-9b77c85335cc"
      },
      "execution_count": 111,
      "outputs": [
        {
          "output_type": "execute_result",
          "data": {
            "text/plain": [
              "tensor(2.5226)"
            ]
          },
          "metadata": {},
          "execution_count": 111
        }
      ]
    },
    {
      "cell_type": "markdown",
      "source": [
        "# BCELoss and BCEWithLogitsLoss"
      ],
      "metadata": {
        "id": "dQuK_YIGD6aP"
      }
    },
    {
      "cell_type": "markdown",
      "source": [
        "Both these losses are for binary classes and both calculate cross-entropy. Both expects output of a model to be single dimentional (probability/logit of class 1).\n",
        "\n",
        "1) BCELoss - expects output of forward pass to be probability. i.e. last layer of the model must have sigmoid activation.\n",
        "\n",
        "2) BCEWithLogitLoss - This loss expects output of the model to be logits (i.e. log of odds, log(p/(1-p)). so this loss first applies sigmoid then calculates binary cross entropy.\n",
        "\n",
        "Both can be used interchangeably, given output of your forward pass has sigmoid activation (BCELoss) or not (BCEWithLogitsLoss)"
      ],
      "metadata": {
        "id": "mg4HSEFVE0c-"
      }
    },
    {
      "cell_type": "code",
      "source": [
        "labels = torch.randint(0,2,(10,))\n",
        "\n",
        "## tensor.to(float) converts to float64, tensor.float() converts to float 32\n",
        "## BOTH THESE LOSSES EXPECTS FLOAT32\n",
        "## ==================================\n",
        "labels = labels.float()\n",
        "labels"
      ],
      "metadata": {
        "colab": {
          "base_uri": "https://localhost:8080/"
        },
        "id": "9w3ZepOpDxXN",
        "outputId": "74641fa3-1417-4b06-8a16-19673f011d11"
      },
      "execution_count": 27,
      "outputs": [
        {
          "output_type": "execute_result",
          "data": {
            "text/plain": [
              "tensor([1., 0., 0., 0., 0., 1., 1., 1., 1., 0.])"
            ]
          },
          "metadata": {},
          "execution_count": 27
        }
      ]
    },
    {
      "cell_type": "code",
      "source": [
        "# logits is log of odds (log odds) = log(p/((1-p))\n",
        "logits = torch.randn(10,)\n",
        "logits"
      ],
      "metadata": {
        "colab": {
          "base_uri": "https://localhost:8080/"
        },
        "id": "UBKN2py8DxZ9",
        "outputId": "632e788a-6582-4e37-c768-fea94be6bd4b"
      },
      "execution_count": 22,
      "outputs": [
        {
          "output_type": "execute_result",
          "data": {
            "text/plain": [
              "tensor([-1.6967,  2.6871, -0.3870,  0.2841, -1.9320,  0.7431,  0.5321, -1.0695,\n",
              "         0.0770,  0.3902])"
            ]
          },
          "metadata": {},
          "execution_count": 22
        }
      ]
    },
    {
      "cell_type": "code",
      "source": [
        "probs = torch.sigmoid(logits)\n",
        "probs"
      ],
      "metadata": {
        "colab": {
          "base_uri": "https://localhost:8080/"
        },
        "id": "scmytVGZDxc6",
        "outputId": "0116df90-2618-4c39-96b4-2203281e50f9"
      },
      "execution_count": 24,
      "outputs": [
        {
          "output_type": "execute_result",
          "data": {
            "text/plain": [
              "tensor([0.1549, 0.9363, 0.4044, 0.5706, 0.1265, 0.6777, 0.6300, 0.2555, 0.5192,\n",
              "        0.5963])"
            ]
          },
          "metadata": {},
          "execution_count": 24
        }
      ]
    },
    {
      "cell_type": "code",
      "source": [
        "torch.nn.BCELoss(reduction=\"mean\")(probs, labels)"
      ],
      "metadata": {
        "colab": {
          "base_uri": "https://localhost:8080/"
        },
        "id": "OAuGTemoDxfx",
        "outputId": "bde5e805-41eb-433e-e244-c4a58e0bf617"
      },
      "execution_count": 31,
      "outputs": [
        {
          "output_type": "execute_result",
          "data": {
            "text/plain": [
              "tensor(0.9895)"
            ]
          },
          "metadata": {},
          "execution_count": 31
        }
      ]
    },
    {
      "cell_type": "code",
      "source": [
        "torch.nn.BCEWithLogitsLoss(reduction=\"mean\")(logits, labels)"
      ],
      "metadata": {
        "colab": {
          "base_uri": "https://localhost:8080/"
        },
        "id": "8tELBDXADxia",
        "outputId": "88382917-eb15-4e9f-838f-753cf42e7fc9"
      },
      "execution_count": 30,
      "outputs": [
        {
          "output_type": "execute_result",
          "data": {
            "text/plain": [
              "tensor(0.9895)"
            ]
          },
          "metadata": {},
          "execution_count": 30
        }
      ]
    },
    {
      "cell_type": "markdown",
      "source": [
        "# NLLLoss and CrossEntropyLoss"
      ],
      "metadata": {
        "id": "A8pjF6QMIbHz"
      }
    },
    {
      "cell_type": "markdown",
      "source": [
        "Both these losses, output of the model to be n-dimensional, where 'n' is the number of classes.\n",
        "\n",
        "Output of the model has to be the single dimensional. each element should represent 1 class starting from 0.\n",
        "\n",
        "BOTH THESE LOSSES EXPECT LABELS TO BE OF INT DTYPE, AS COMPARE TO BCELOSS AND BCEWITHLOGITSLOSS WHICH EXPECTS LABELS DTYPE TO BE FLOAT32"
      ],
      "metadata": {
        "id": "UpmVQiH_Iu1f"
      }
    },
    {
      "cell_type": "code",
      "source": [
        "## 3 classes example\n",
        "\n",
        "model_output = torch.randn(10,3)  ##each number of each of 3 classes\n",
        "model_output"
      ],
      "metadata": {
        "colab": {
          "base_uri": "https://localhost:8080/"
        },
        "id": "N6zJNF3QDxlU",
        "outputId": "ed954748-6c32-438c-b428-00914968301b"
      },
      "execution_count": 36,
      "outputs": [
        {
          "output_type": "execute_result",
          "data": {
            "text/plain": [
              "tensor([[ 0.4278, -0.1769, -0.1021],\n",
              "        [-3.7264, -0.8210,  1.2180],\n",
              "        [ 0.9756,  0.5951, -0.0402],\n",
              "        [-1.1516, -0.0206,  1.2694],\n",
              "        [-0.3395, -0.4806, -0.3055],\n",
              "        [-0.8345,  0.4869,  0.0430],\n",
              "        [ 1.6530,  0.0384, -0.4284],\n",
              "        [ 0.6374,  0.3935, -0.3398],\n",
              "        [-0.9016, -0.9888,  0.9727],\n",
              "        [-0.6929,  0.4684,  0.2244]])"
            ]
          },
          "metadata": {},
          "execution_count": 36
        }
      ]
    },
    {
      "cell_type": "code",
      "source": [
        "# labels = torch.randn(10,3).softmax(-1)\n",
        "# labels = torch.argsort(labels).float()\n",
        "# labels"
      ],
      "metadata": {
        "id": "eH_NPmu_JJRp"
      },
      "execution_count": 73,
      "outputs": []
    },
    {
      "cell_type": "code",
      "source": [
        "labels = torch.randint(0,3,(10,))\n",
        "labels"
      ],
      "metadata": {
        "colab": {
          "base_uri": "https://localhost:8080/"
        },
        "id": "nu22z8gRNLAa",
        "outputId": "fe3a6095-9195-4301-b764-77b0913e8837"
      },
      "execution_count": 65,
      "outputs": [
        {
          "output_type": "execute_result",
          "data": {
            "text/plain": [
              "tensor([1, 1, 1, 0, 0, 2, 1, 2, 1, 2])"
            ]
          },
          "metadata": {},
          "execution_count": 65
        }
      ]
    },
    {
      "cell_type": "code",
      "source": [
        "probs = torch.softmax(model_output,-1)\n",
        "probs"
      ],
      "metadata": {
        "colab": {
          "base_uri": "https://localhost:8080/"
        },
        "id": "-qDrOJ3rJcM6",
        "outputId": "37555431-1f41-462b-95ba-5fa01afc68e4"
      },
      "execution_count": 62,
      "outputs": [
        {
          "output_type": "execute_result",
          "data": {
            "text/plain": [
              "tensor([[0.4684, 0.2559, 0.2757],\n",
              "        [0.0063, 0.1145, 0.8793],\n",
              "        [0.4889, 0.3341, 0.1770],\n",
              "        [0.0651, 0.2018, 0.7331],\n",
              "        [0.3445, 0.2991, 0.3564],\n",
              "        [0.1398, 0.5240, 0.3362],\n",
              "        [0.7554, 0.1503, 0.0942],\n",
              "        [0.4630, 0.3628, 0.1742],\n",
              "        [0.1186, 0.1087, 0.7727],\n",
              "        [0.1493, 0.4770, 0.3737]])"
            ]
          },
          "metadata": {},
          "execution_count": 62
        }
      ]
    },
    {
      "cell_type": "code",
      "source": [
        "torch.nn.NLLLoss(reduction = \"mean\")(probs.log(),labels)"
      ],
      "metadata": {
        "colab": {
          "base_uri": "https://localhost:8080/"
        },
        "id": "fYrzE_UDJrvQ",
        "outputId": "9d0b07b5-b057-4425-def2-651f02671137"
      },
      "execution_count": 71,
      "outputs": [
        {
          "output_type": "execute_result",
          "data": {
            "text/plain": [
              "tensor(1.6360)"
            ]
          },
          "metadata": {},
          "execution_count": 71
        }
      ]
    },
    {
      "cell_type": "code",
      "source": [
        "torch.nn.CrossEntropyLoss(reduction = \"mean\")(model_output,labels)"
      ],
      "metadata": {
        "colab": {
          "base_uri": "https://localhost:8080/"
        },
        "id": "u5_-Y9h8M7Xv",
        "outputId": "0318ca84-6d5a-4995-a146-a6ec69748d67"
      },
      "execution_count": 72,
      "outputs": [
        {
          "output_type": "execute_result",
          "data": {
            "text/plain": [
              "tensor(1.6360)"
            ]
          },
          "metadata": {},
          "execution_count": 72
        }
      ]
    },
    {
      "cell_type": "markdown",
      "source": [
        "#### For 2 Classes"
      ],
      "metadata": {
        "id": "IUVuLkyNOEBy"
      }
    },
    {
      "cell_type": "code",
      "source": [
        "model_output = torch.randn(10,2)  ##each number of each of 3 classes\n",
        "model_output"
      ],
      "metadata": {
        "colab": {
          "base_uri": "https://localhost:8080/"
        },
        "id": "GehtQ3TbNatI",
        "outputId": "813221f2-34cd-40a0-c389-6c806ca66ae0"
      },
      "execution_count": 75,
      "outputs": [
        {
          "output_type": "execute_result",
          "data": {
            "text/plain": [
              "tensor([[-0.3272, -0.9772],\n",
              "        [-1.0323,  0.3656],\n",
              "        [ 0.7022, -0.3994],\n",
              "        [ 1.0495, -0.6664],\n",
              "        [ 0.3569, -0.5211],\n",
              "        [-0.7566,  0.7727],\n",
              "        [-0.1840,  0.3146],\n",
              "        [-1.0753,  0.9329],\n",
              "        [-0.6972, -0.3679],\n",
              "        [ 1.1080,  0.2262]])"
            ]
          },
          "metadata": {},
          "execution_count": 75
        }
      ]
    },
    {
      "cell_type": "code",
      "source": [
        "labels = torch.randint(0,2,(10,))\n",
        "labels"
      ],
      "metadata": {
        "colab": {
          "base_uri": "https://localhost:8080/"
        },
        "id": "oq2_xbd9OK32",
        "outputId": "73009b16-b82b-4c8b-ed9c-2ee9dde945dc"
      },
      "execution_count": 88,
      "outputs": [
        {
          "output_type": "execute_result",
          "data": {
            "text/plain": [
              "tensor([0, 1, 1, 0, 1, 0, 0, 1, 1, 0])"
            ]
          },
          "metadata": {},
          "execution_count": 88
        }
      ]
    },
    {
      "cell_type": "code",
      "source": [
        "probs = torch.softmax(model_output,-1)\n",
        "probs"
      ],
      "metadata": {
        "colab": {
          "base_uri": "https://localhost:8080/"
        },
        "id": "jJ2e4a05ORoc",
        "outputId": "9561280a-38da-4d6d-ed63-3c999ff1c329"
      },
      "execution_count": 89,
      "outputs": [
        {
          "output_type": "execute_result",
          "data": {
            "text/plain": [
              "tensor([[0.6570, 0.3430],\n",
              "        [0.1981, 0.8019],\n",
              "        [0.7506, 0.2494],\n",
              "        [0.8476, 0.1524],\n",
              "        [0.7064, 0.2936],\n",
              "        [0.1781, 0.8219],\n",
              "        [0.3779, 0.6221],\n",
              "        [0.1183, 0.8817],\n",
              "        [0.4184, 0.5816],\n",
              "        [0.7072, 0.2928]])"
            ]
          },
          "metadata": {},
          "execution_count": 89
        }
      ]
    },
    {
      "cell_type": "code",
      "source": [
        "import numpy as np\n",
        "np.exp(0.3430/0.6570)"
      ],
      "metadata": {
        "colab": {
          "base_uri": "https://localhost:8080/"
        },
        "id": "N2ehH1wnPfaA",
        "outputId": "a7b7c818-7761-4593-80c2-618c5458dc2f"
      },
      "execution_count": 102,
      "outputs": [
        {
          "output_type": "execute_result",
          "data": {
            "text/plain": [
              "1.685513078736403"
            ]
          },
          "metadata": {},
          "execution_count": 102
        }
      ]
    },
    {
      "cell_type": "code",
      "source": [
        "probs1 = probs[:,1]\n",
        "probs1"
      ],
      "metadata": {
        "colab": {
          "base_uri": "https://localhost:8080/"
        },
        "id": "7o9rAINwOU_Q",
        "outputId": "118df718-38a5-466c-b5ab-b87078f35d0d"
      },
      "execution_count": 90,
      "outputs": [
        {
          "output_type": "execute_result",
          "data": {
            "text/plain": [
              "tensor([0.3430, 0.8019, 0.2494, 0.1524, 0.2936, 0.8219, 0.6221, 0.8817, 0.5816,\n",
              "        0.2928])"
            ]
          },
          "metadata": {},
          "execution_count": 90
        }
      ]
    },
    {
      "cell_type": "code",
      "source": [
        "torch.nn.NLLLoss(reduction = \"mean\")(probs.log(),labels)"
      ],
      "metadata": {
        "colab": {
          "base_uri": "https://localhost:8080/"
        },
        "id": "YeQem5buOZlF",
        "outputId": "efcf59b9-983b-4237-cc82-17a76a48b570"
      },
      "execution_count": 91,
      "outputs": [
        {
          "output_type": "execute_result",
          "data": {
            "text/plain": [
              "tensor(0.7133)"
            ]
          },
          "metadata": {},
          "execution_count": 91
        }
      ]
    },
    {
      "cell_type": "code",
      "source": [
        "torch.nn.CrossEntropyLoss(reduction = \"mean\")(model_output,labels)"
      ],
      "metadata": {
        "colab": {
          "base_uri": "https://localhost:8080/"
        },
        "id": "k-Ci5DKROgUW",
        "outputId": "d9e81cd7-4a0d-4695-a885-341688c2a285"
      },
      "execution_count": 92,
      "outputs": [
        {
          "output_type": "execute_result",
          "data": {
            "text/plain": [
              "tensor(0.7133)"
            ]
          },
          "metadata": {},
          "execution_count": 92
        }
      ]
    },
    {
      "cell_type": "code",
      "source": [
        "torch.nn.BCELoss(reduction = \"mean\")(probs1,labels.float())"
      ],
      "metadata": {
        "colab": {
          "base_uri": "https://localhost:8080/"
        },
        "id": "XzVzflJoOi0v",
        "outputId": "ca299d92-f8c1-4d13-f330-727aa318823d"
      },
      "execution_count": 93,
      "outputs": [
        {
          "output_type": "execute_result",
          "data": {
            "text/plain": [
              "tensor(0.7133)"
            ]
          },
          "metadata": {},
          "execution_count": 93
        }
      ]
    },
    {
      "cell_type": "code",
      "source": [
        "torch.nn.BCEWithLogitsLoss(reduction = \"mean\")(model_output[:,1]-model_output[:,0],labels.float())"
      ],
      "metadata": {
        "colab": {
          "base_uri": "https://localhost:8080/"
        },
        "id": "gwz2_uKPOngO",
        "outputId": "de0681ef-e9d8-44b8-e3ef-46b745bd29a3"
      },
      "execution_count": 103,
      "outputs": [
        {
          "output_type": "execute_result",
          "data": {
            "text/plain": [
              "tensor(0.7133)"
            ]
          },
          "metadata": {},
          "execution_count": 103
        }
      ]
    },
    {
      "cell_type": "code",
      "source": [],
      "metadata": {
        "id": "LE1XeS3SPDf8"
      },
      "execution_count": null,
      "outputs": []
    }
  ]
}